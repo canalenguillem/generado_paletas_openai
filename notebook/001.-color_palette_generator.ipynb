{
 "cells": [
  {
   "cell_type": "code",
   "execution_count": 1,
   "metadata": {},
   "outputs": [
    {
     "name": "stdout",
     "output_type": "stream",
     "text": [
      "La clave de OpenAI se ha cargado correctamente.\n"
     ]
    }
   ],
   "source": [
    "from dotenv import load_dotenv\n",
    "import os\n",
    "\n",
    "# Cargar las variables del archivo .env\n",
    "load_dotenv()\n",
    "\n",
    "# Obtener la clave de OpenAI\n",
    "openai_api_key = os.getenv(\"OPENAI_API_KEY\")\n",
    "\n",
    "# Verifica que la clave se ha cargado correctamente\n",
    "if openai_api_key:\n",
    "    print(\"La clave de OpenAI se ha cargado correctamente.\")\n",
    "else:\n",
    "    print(\"Error al cargar la clave de OpenAI.\")"
   ]
  },
  {
   "cell_type": "code",
   "execution_count": 2,
   "metadata": {},
   "outputs": [],
   "source": [
    "from openai import OpenAI\n",
    "client=OpenAI(api_key=openai_api_key)\n",
    "MODEL='gpt-4-turbo'"
   ]
  },
  {
   "cell_type": "code",
   "execution_count": 37,
   "metadata": {},
   "outputs": [],
   "source": [
    "def generate_colors(prompt):\n",
    "    print(f\"prompt {prompt}\")\n",
    "    prompt_system=\"\"\"\n",
    "    Eres un asistente generador de paletas de colores que responde a indicaciones de texto para paletas de colores. \n",
    "    Debes generar paletas de colores que se ajusten al tema, estado de ánimo o instrucciones dadas en la indicación. \n",
    "    Las paletas deben tener entre 2 y 8 colores.\n",
    "\n",
    "    Formato deseado: un JSON Array con los códigos hexadecimales, solamente los codigos, nada más.\n",
    "\n",
    "    \"\"\"\n",
    "\n",
    "    messages=[\n",
    "        {'role':'system','content':prompt_system},\n",
    "        {'role':'user','content':prompt},\n",
    "    ]\n",
    "\n",
    "    response = client.chat.completions.create(\n",
    "        model=MODEL,\n",
    "        messages=messages,\n",
    "        temperature=1,\n",
    "        max_tokens=200,\n",
    "        n=1,\n",
    "        stop=None\n",
    "    )\n",
    "\n",
    "    color_list = json.loads(response.choices[0].message.content)\n",
    "    return color_list\n",
    "\n",
    "import json\n",
    "from IPython.display import display, HTML\n",
    "\n",
    "def display_colors(color_list):\n",
    "    if isinstance(color_list,str):\n",
    "        color_list=json.loads(color_list)\n",
    "    color_bocks=\"\"\n",
    "    for color in color_list:\n",
    "        color_bocks+=f\"<div style='display:inline-block;margin-right:10px;width:100px;height:100px;background-color:{color};'>{color}</div>\"\n",
    "\n",
    "    display(HTML(f\"{color_bocks}\"))\n",
    "\n",
    "\n",
    "\n"
   ]
  },
  {
   "cell_type": "code",
   "execution_count": 13,
   "metadata": {},
   "outputs": [
    {
     "name": "stdout",
     "output_type": "stream",
     "text": [
      "prompt los colores del meditrraneo al amanecer\n",
      "['#045762', '#087CA7', '#F2E205', '#F28705', '#D94E1F']\n"
     ]
    }
   ],
   "source": [
    "response=generate_colors(\"los colores del meditrraneo al amanecer\")\n"
   ]
  },
  {
   "cell_type": "code",
   "execution_count": 38,
   "metadata": {},
   "outputs": [
    {
     "data": {
      "text/html": [
       "<div style='display:inline-block;margin-right:10px;width:100px;height:100px;background-color:#4285F4;'>#4285F4</div><div style='display:inline-block;margin-right:10px;width:100px;height:100px;background-color:#DB4437;'>#DB4437</div><div style='display:inline-block;margin-right:10px;width:100px;height:100px;background-color:#F4B400;'>#F4B400</div><div style='display:inline-block;margin-right:10px;width:100px;height:100px;background-color:#0F9D58;'>#0F9D58</div>"
      ],
      "text/plain": [
       "<IPython.core.display.HTML object>"
      ]
     },
     "metadata": {},
     "output_type": "display_data"
    }
   ],
   "source": [
    "display_colors(response)"
   ]
  },
  {
   "cell_type": "code",
   "execution_count": 30,
   "metadata": {},
   "outputs": [
    {
     "name": "stdout",
     "output_type": "stream",
     "text": [
      "prompt los colores de google\n"
     ]
    },
    {
     "data": {
      "text/html": [
       "<div style='color:#4285F4;'>#4285F4</div><div style='color:#DB4437;'>#DB4437</div><div style='color:#F4B400;'>#F4B400</div><div style='color:#0F9D58;'>#0F9D58</div>"
      ],
      "text/plain": [
       "<IPython.core.display.HTML object>"
      ]
     },
     "metadata": {},
     "output_type": "display_data"
    }
   ],
   "source": [
    "response=generate_colors(\"los colores de google\")\n",
    "display_colors(response)"
   ]
  },
  {
   "cell_type": "code",
   "execution_count": 39,
   "metadata": {},
   "outputs": [
    {
     "name": "stdout",
     "output_type": "stream",
     "text": [
      "prompt una gama pastel de un bosque en otoño\n"
     ]
    },
    {
     "data": {
      "text/html": [
       "<div style='display:inline-block;margin-right:10px;width:100px;height:100px;background-color:#D7E2D2;'>#D7E2D2</div><div style='display:inline-block;margin-right:10px;width:100px;height:100px;background-color:#F4E1D2;'>#F4E1D2</div><div style='display:inline-block;margin-right:10px;width:100px;height:100px;background-color:#EBD4CB;'>#EBD4CB</div><div style='display:inline-block;margin-right:10px;width:100px;height:100px;background-color:#C1B7B0;'>#C1B7B0</div><div style='display:inline-block;margin-right:10px;width:100px;height:100px;background-color:#A89F98;'>#A89F98</div>"
      ],
      "text/plain": [
       "<IPython.core.display.HTML object>"
      ]
     },
     "metadata": {},
     "output_type": "display_data"
    }
   ],
   "source": [
    "response=generate_colors(\"una gama pastel de un bosque en otoño\")\n",
    "display_colors(response)"
   ]
  },
  {
   "cell_type": "code",
   "execution_count": null,
   "metadata": {},
   "outputs": [],
   "source": []
  }
 ],
 "metadata": {
  "kernelspec": {
   "display_name": ".venv",
   "language": "python",
   "name": "python3"
  },
  "language_info": {
   "codemirror_mode": {
    "name": "ipython",
    "version": 3
   },
   "file_extension": ".py",
   "mimetype": "text/x-python",
   "name": "python",
   "nbconvert_exporter": "python",
   "pygments_lexer": "ipython3",
   "version": "3.11.4"
  }
 },
 "nbformat": 4,
 "nbformat_minor": 2
}
